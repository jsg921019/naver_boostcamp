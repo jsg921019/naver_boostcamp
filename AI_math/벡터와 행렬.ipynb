{
 "cells": [
  {
   "cell_type": "markdown",
   "metadata": {},
   "source": [
    "## Ⅰ. 벡터"
   ]
  },
  {
   "cell_type": "markdown",
   "metadata": {},
   "source": [
    "### 1. 벡터의 정의"
   ]
  },
  {
   "cell_type": "markdown",
   "metadata": {},
   "source": [
    "$\\mathbb{R}^n$ 공간에서의 한 점을 나타낸다.\n",
    "\n",
    "$$\n",
    "\\mathbf{x} = \n",
    "\\begin{bmatrix}\n",
    "x_1\\\\\n",
    "x_2\\\\\n",
    "\\vdots\\\\\n",
    "x_n\n",
    "\\end{bmatrix}\n",
    "$$"
   ]
  },
  {
   "cell_type": "code",
   "execution_count": 1,
   "metadata": {},
   "outputs": [
    {
     "name": "stdout",
     "output_type": "stream",
     "text": [
      "x : [1. 2. 3.]\n",
      "y : [-1.  0.  2.]\n"
     ]
    }
   ],
   "source": [
    "import numpy as np\n",
    "\n",
    "x = np.array([1., 2., 3.])\n",
    "y = np.array([-1., 0., 2.])\n",
    "\n",
    "print('x :', x)\n",
    "print('y :', y)"
   ]
  },
  {
   "cell_type": "markdown",
   "metadata": {},
   "source": [
    "### 2. 벡터의 연산"
   ]
  },
  {
   "cell_type": "markdown",
   "metadata": {},
   "source": [
    "$$\n",
    "\\mathbf{x} = \n",
    "\\begin{bmatrix}\n",
    "x_1\\\\\n",
    "x_2\\\\\n",
    "\\vdots\\\\\n",
    "x_n\n",
    "\\end{bmatrix}\n",
    "\\quad\n",
    "\\mathbf{y} = \n",
    "\\begin{bmatrix}\n",
    "y_1\\\\\n",
    "y_2\\\\\n",
    "\\vdots\\\\\n",
    "y_n\n",
    "\\end{bmatrix}\n",
    "$$"
   ]
  },
  {
   "cell_type": "markdown",
   "metadata": {},
   "source": [
    "* 스칼라 곱\n",
    "$$\n",
    "\\alpha \\mathbf{x} = \n",
    "\\begin{bmatrix}\n",
    "\\alpha x_1\\\\\n",
    "\\alpha x_2\\\\\n",
    "\\vdots\\\\\n",
    "\\alpha x_n\n",
    "\\end{bmatrix}\n",
    "$$"
   ]
  },
  {
   "cell_type": "markdown",
   "metadata": {},
   "source": [
    "* 덧셈/뺄셈\n",
    "\n",
    "$$\n",
    "\\mathbf{x} \\pm \\mathbf{y} =\n",
    "\\begin{bmatrix}\n",
    "x_1 \\pm y_1\\\\\n",
    "x_2 \\pm y_2\\\\\n",
    "\\vdots\\\\\n",
    "x_n \\pm y_n\n",
    "\\end{bmatrix}\n",
    "$$"
   ]
  },
  {
   "cell_type": "markdown",
   "metadata": {},
   "source": [
    "* 성분곱 (Hadamard product)\n",
    "\n",
    "$$\n",
    "\\mathbf{x} \\odot \\mathbf{y} =\n",
    "\\begin{bmatrix}\n",
    "x_1 y_1\\\\\n",
    "x_2 y_2\\\\\n",
    "\\vdots\\\\\n",
    "x_n y_n\n",
    "\\end{bmatrix}\n",
    "$$"
   ]
  },
  {
   "cell_type": "markdown",
   "metadata": {},
   "source": [
    "* 내적"
   ]
  },
  {
   "cell_type": "markdown",
   "metadata": {},
   "source": [
    "projection을 구하거나 두 벡터의 similarity를 계산할때 쓰인다\n",
    "\n",
    "$$\n",
    "\\mathbf{x}\\cdot\\mathbf{y} = \\sum_{i=1}^n x_i y_i = \\lVert x \\rVert_2 \\lVert y \\rVert_2\\cos\\theta\n",
    "$$"
   ]
  },
  {
   "cell_type": "code",
   "execution_count": 2,
   "metadata": {},
   "outputs": [
    {
     "name": "stdout",
     "output_type": "stream",
     "text": [
      "스칼라 곱 : [3. 6. 9.]\n",
      "덧셈 : [0. 2. 5.]\n",
      "뺄셈 : [2. 2. 1.]\n",
      "성분곱 : [-1.  0.  6.]\n",
      "내적 : 5.0\n"
     ]
    }
   ],
   "source": [
    "print('스칼라 곱 :', 3 * x)\n",
    "print('덧셈 :', x + y)\n",
    "print('뺄셈 :', x - y)\n",
    "print('성분곱 :', x * y)\n",
    "print('내적 :', np.dot(x, y))"
   ]
  },
  {
   "cell_type": "markdown",
   "metadata": {},
   "source": [
    "### 3. 벡터의 노름"
   ]
  },
  {
   "cell_type": "markdown",
   "metadata": {},
   "source": [
    "원점에서부터의 거리를 의미하며 대표적으로 L1 norm과 L2 norm이 있다."
   ]
  },
  {
   "cell_type": "markdown",
   "metadata": {},
   "source": [
    "* L1 norm (Manhattan distance)\n",
    "$$\n",
    "||\\mathbf{x}||_1 = \\sum_{i=1}^n |x_i|\n",
    "$$\n",
    "\n",
    "* L2 norm (Euclidean distance)\n",
    "$$\n",
    "||\\mathbf{x}||_2 = \\sqrt{\\sum_{i=1}^n x_i^2}\n",
    "$$\n",
    "\n",
    "* p-norm\n",
    "$$\n",
    "||\\mathbf{x}||_p = \\left( {\\sum_{i=1}^n |x_i|^p} \\right) ^\\frac{1}{p}\n",
    "$$\n",
    "\n",
    "* maximum norm\n",
    "\n",
    "$$\n",
    "||\\mathbf{x}||_\\infty = \\max_i |x_i|\n",
    "$$"
   ]
  },
  {
   "cell_type": "code",
   "execution_count": 3,
   "metadata": {},
   "outputs": [
    {
     "name": "stdout",
     "output_type": "stream",
     "text": [
      "L1 norm : 6.0\n",
      "L2 norm : 3.7416573867739413\n",
      "Maximum norm : 3.0\n"
     ]
    }
   ],
   "source": [
    "from numpy import linalg\n",
    "\n",
    "print('L1 norm :', linalg.norm(x, 1))\n",
    "print('L2 norm :', linalg.norm(x))\n",
    "print('Maximum norm :', linalg.norm(x, np.inf))"
   ]
  },
  {
   "cell_type": "markdown",
   "metadata": {},
   "source": [
    "## Ⅱ. 행렬"
   ]
  },
  {
   "cell_type": "markdown",
   "metadata": {},
   "source": [
    "### 1. 행렬의 정의\n",
    "\n",
    "벡터를 원소로 가지는 2차원 배열로 다음과 같이 해석할 수 있다.\n",
    " 1. 공간상의 여러 점들(벡터들)\n",
    " 2. 행렬곱을 통해 $\\mathbb{R}^m \\rightarrow \\mathbb{R}^n$ 로 매핑을 시켜주는 연산자  "
   ]
  },
  {
   "cell_type": "markdown",
   "metadata": {},
   "source": [
    "$$\n",
    "\\mathbf{X} \\  = \\ \n",
    "\\begin{bmatrix}\n",
    "\\mathbf{x}_1\\\\\n",
    "\\mathbf{x}_1\\\\\n",
    "\\vdots\\\\\n",
    "\\mathbf{x}_n\n",
    "\\end{bmatrix} \\ = \\ \n",
    "\\begin{bmatrix}\n",
    "x_{11} & x_{12} & \\dots & x_{1m}\\\\\n",
    "x_{21} & x_{22} & \\dots & x_{2m}\\\\\n",
    "\\vdots  & \\vdots  & \\dots & \\vdots  \\\\\n",
    "x_{n1} & x_{n2} & \\dots & x_{nm}\\\\\n",
    "\\end{bmatrix}\n",
    "$$"
   ]
  },
  {
   "cell_type": "code",
   "execution_count": 4,
   "metadata": {},
   "outputs": [],
   "source": [
    "X = np.array([[2.0, -1.0, 0.0],\n",
    "              [1.0, 0.0, -1.0],\n",
    "              [1.0, 0.0, 1.0]])\n",
    "\n",
    "Y = np.array([[1.0, -1.0, 1.0],\n",
    "              [0.0, 0.0, 2.0],\n",
    "              [-2.0, 1.0, 1.0]])"
   ]
  },
  {
   "cell_type": "markdown",
   "metadata": {},
   "source": [
    "### 2. 행렬의 연산"
   ]
  },
  {
   "cell_type": "markdown",
   "metadata": {},
   "source": [
    "* 전치 행렬\n",
    "\n",
    "$$\n",
    "\\mathbf{X}^T =\n",
    "\\left( x_{ji} \\right)\n",
    "$$"
   ]
  },
  {
   "cell_type": "code",
   "execution_count": 5,
   "metadata": {},
   "outputs": [
    {
     "data": {
      "text/plain": [
       "array([[ 2.,  1.,  1.],\n",
       "       [-1.,  0.,  0.],\n",
       "       [ 0., -1.,  1.]])"
      ]
     },
     "execution_count": 5,
     "metadata": {},
     "output_type": "execute_result"
    }
   ],
   "source": [
    "X.T"
   ]
  },
  {
   "cell_type": "markdown",
   "metadata": {},
   "source": [
    "* 스칼라 곱\n",
    "\n",
    "$$\n",
    "\\alpha \\mathbf{X} = \n",
    "\\left( \\alpha x_{ij} \\right)\n",
    "$$"
   ]
  },
  {
   "cell_type": "code",
   "execution_count": 6,
   "metadata": {},
   "outputs": [
    {
     "data": {
      "text/plain": [
       "array([[ 4., -2.,  0.],\n",
       "       [ 2.,  0., -2.],\n",
       "       [ 2.,  0.,  2.]])"
      ]
     },
     "execution_count": 6,
     "metadata": {},
     "output_type": "execute_result"
    }
   ],
   "source": [
    "2*X"
   ]
  },
  {
   "cell_type": "markdown",
   "metadata": {},
   "source": [
    "* 덧셈 뺄셈\n",
    "\n",
    "$$\n",
    "\\mathbf{X} \\pm \\mathbf{Y} =\n",
    "\\left( x_{ij} \\pm y_{ij} \\right)\n",
    "$$"
   ]
  },
  {
   "cell_type": "code",
   "execution_count": 7,
   "metadata": {},
   "outputs": [
    {
     "data": {
      "text/plain": [
       "array([[ 3., -2.,  1.],\n",
       "       [ 1.,  0.,  1.],\n",
       "       [-1.,  1.,  2.]])"
      ]
     },
     "execution_count": 7,
     "metadata": {},
     "output_type": "execute_result"
    }
   ],
   "source": [
    "X + Y"
   ]
  },
  {
   "cell_type": "markdown",
   "metadata": {},
   "source": [
    "* 성분곱\n",
    "\n",
    "$$\n",
    "\\mathbf{X} \\odot \\mathbf{Y} =\n",
    "\\left( x_{ij} y_{ij} \\right)\n",
    "$$"
   ]
  },
  {
   "cell_type": "code",
   "execution_count": 8,
   "metadata": {},
   "outputs": [
    {
     "data": {
      "text/plain": [
       "array([[ 2.,  1.,  0.],\n",
       "       [ 0.,  0., -2.],\n",
       "       [-2.,  0.,  1.]])"
      ]
     },
     "execution_count": 8,
     "metadata": {},
     "output_type": "execute_result"
    }
   ],
   "source": [
    "X*Y"
   ]
  },
  {
   "cell_type": "markdown",
   "metadata": {},
   "source": [
    "* 행렬곱\n",
    "\n",
    "$$\n",
    "\\mathbf{X}\\times\\mathbf{Y} = \\left( \\sum_k x_{ik} y_{kj} \\right)\n",
    "$$"
   ]
  },
  {
   "cell_type": "code",
   "execution_count": 9,
   "metadata": {},
   "outputs": [
    {
     "data": {
      "text/plain": [
       "array([[ 2., -2.,  0.],\n",
       "       [ 3., -2.,  0.],\n",
       "       [-1.,  0.,  2.]])"
      ]
     },
     "execution_count": 9,
     "metadata": {},
     "output_type": "execute_result"
    }
   ],
   "source": [
    "X @ Y"
   ]
  },
  {
   "cell_type": "markdown",
   "metadata": {},
   "source": [
    "### 3. 역행렬"
   ]
  },
  {
   "cell_type": "markdown",
   "metadata": {},
   "source": [
    "$\\mathbf{A}$의 행렬의 행과 열의 수가 같고 determinant 가 0이 아닐 경우 다음을 만족시키는 $\\mathbf{A}^{-1}$ 가 존재한다.\n",
    "\n",
    "$$\n",
    "\\mathbf{A} \\mathbf{A}^{-1} = \\mathbf{A}^{-1} \\mathbf{A} = \\mathbf{I}\n",
    "$$\n",
    "\n",
    "이는 $\\mathbf{Ax} = \\mathbf{y}$ 로 매핑된 $\\mathbf{y}$를 다시 $\\mathbf{x}$로 변환시키는 행렬이다."
   ]
  },
  {
   "cell_type": "code",
   "execution_count": 10,
   "metadata": {},
   "outputs": [
    {
     "data": {
      "text/plain": [
       "array([[ 0. ,  0.5,  0.5],\n",
       "       [-1. ,  1. ,  1. ],\n",
       "       [ 0. , -0.5,  0.5]])"
      ]
     },
     "execution_count": 10,
     "metadata": {},
     "output_type": "execute_result"
    }
   ],
   "source": [
    "X_inv = linalg.inv(X)\n",
    "X_inv"
   ]
  },
  {
   "cell_type": "code",
   "execution_count": 11,
   "metadata": {},
   "outputs": [
    {
     "data": {
      "text/plain": [
       "array([[1., 0., 0.],\n",
       "       [0., 1., 0.],\n",
       "       [0., 0., 1.]])"
      ]
     },
     "execution_count": 11,
     "metadata": {},
     "output_type": "execute_result"
    }
   ],
   "source": [
    "X @ X_inv"
   ]
  },
  {
   "cell_type": "markdown",
   "metadata": {},
   "source": [
    "### 4. 유사 역행렬"
   ]
  },
  {
   "cell_type": "markdown",
   "metadata": {},
   "source": [
    "$\\mathbf{A}$의 행과 열의 개수가 다르다면 유사역행렬 $\\mathbf{A}^+$ 를 이용할 수 있다.\n",
    "\n",
    "1. n >= m 이고 모든 열이 독립적일 때\n",
    "$$\n",
    "\\mathbf{A}^+ = (\\mathbf{A}^T \\mathbf{A})^{-1} \\mathbf{A}^T \\\\\n",
    "\\mathbf{A}^+ \\mathbf{A} = I\n",
    "$$"
   ]
  },
  {
   "cell_type": "code",
   "execution_count": 12,
   "metadata": {},
   "outputs": [
    {
     "data": {
      "text/plain": [
       "array([[-1. ,  0. ,  0. ],\n",
       "       [ 0. ,  0.2,  0.4]])"
      ]
     },
     "execution_count": 12,
     "metadata": {},
     "output_type": "execute_result"
    }
   ],
   "source": [
    "A = np.array([[-1, 0],\n",
    "              [0, 1],\n",
    "              [0, 2]])\n",
    "\n",
    "A_inv = linalg.pinv(A)\n",
    "A_inv"
   ]
  },
  {
   "cell_type": "code",
   "execution_count": 13,
   "metadata": {
    "scrolled": true
   },
   "outputs": [
    {
     "data": {
      "text/plain": [
       "array([[1., 0.],\n",
       "       [0., 1.]])"
      ]
     },
     "execution_count": 13,
     "metadata": {},
     "output_type": "execute_result"
    }
   ],
   "source": [
    "A_inv @ A"
   ]
  },
  {
   "cell_type": "markdown",
   "metadata": {},
   "source": [
    "이러한 성질은 식의 개수가 변수의 개수보다 많은 경우에서의 Linear Regression을 할 시 사용할 수 있다.  \n",
    "다음과 같은 데이터가 주어질 때 일차함수로 회귀하는 문제를 살펴보자."
   ]
  },
  {
   "cell_type": "code",
   "execution_count": 14,
   "metadata": {},
   "outputs": [
    {
     "data": {
      "image/png": "[encoded data removed]",
      "text/plain": [
       "<Figure size 432x288 with 1 Axes>"
      ]
     },
     "metadata": {
      "needs_background": "light"
     },
     "output_type": "display_data"
    }
   ],
   "source": [
    "import matplotlib.pyplot as plt\n",
    "\n",
    "x = np.linspace(0, 10, 100)\n",
    "y = 2 * x + 3 + np.random.randn(100)\n",
    "plt.plot(x, y, 'x')\n",
    "plt.show()"
   ]
  },
  {
   "cell_type": "markdown",
   "metadata": {},
   "source": [
    "이 문제는 다음과 같이 행렬식으로 표현 할 수 있다. 이 식은 정확한 해는 존재하지 않지만 유사역행렬을 양변의 우측에 곱하므로써 오차를 최소화하는 w와 b를 찾을 수 있다."
   ]
  },
  {
   "cell_type": "markdown",
   "metadata": {},
   "source": [
    "$$\n",
    "\\begin{bmatrix}\n",
    "x_1 & 1\\\\\n",
    "x_2 & 1\\\\\n",
    "\\vdots & \\vdots\\\\\n",
    "x_n & 1\n",
    "\\end{bmatrix}\n",
    "\\begin{bmatrix}\n",
    "w\\\\\n",
    "b\n",
    "\\end{bmatrix} = \n",
    "\\begin{bmatrix}\n",
    "y_1\\\\\n",
    "y_2\\\\\n",
    "\\vdots\\\\\n",
    "y_n\n",
    "\\end{bmatrix}\n",
    "$$"
   ]
  },
  {
   "cell_type": "markdown",
   "metadata": {},
   "source": [
    "$$\n",
    "\\mathbf{X}^+ \\mathbf{X}\n",
    "\\begin{bmatrix}\n",
    "w\\\\\n",
    "b\n",
    "\\end{bmatrix} =\n",
    "\\mathbf{I}\n",
    "\\begin{bmatrix}\n",
    "w\\\\\n",
    "b\n",
    "\\end{bmatrix} = \n",
    "\\begin{bmatrix}\n",
    "w\\\\\n",
    "b\n",
    "\\end{bmatrix} =\n",
    "\\mathbf{X}^+ \\mathbf{y}\n",
    "$$"
   ]
  },
  {
   "cell_type": "code",
   "execution_count": 15,
   "metadata": {},
   "outputs": [
    {
     "name": "stdout",
     "output_type": "stream",
     "text": [
      "w, : 1.977\n",
      "b, : 3.060\n"
     ]
    }
   ],
   "source": [
    "X = np.stack((x, np.ones_like(x)), axis=-1)\n",
    "X_pinv = linalg.pinv(X)\n",
    "w, b = X_pinv @ y\n",
    "\n",
    "print(f'w, : {w:.3f}')\n",
    "print(f'b, : {b:.3f}')"
   ]
  },
  {
   "cell_type": "markdown",
   "metadata": {},
   "source": [
    "구한 회귀식을 데이터와 비교해보면 성공적으로 회귀식을 구했음을 확인할 수 있다."
   ]
  },
  {
   "cell_type": "code",
   "execution_count": 16,
   "metadata": {},
   "outputs": [
    {
     "data": {
      "image/png": "[encoded data removed]",
      "text/plain": [
       "<Figure size 432x288 with 1 Axes>"
      ]
     },
     "metadata": {
      "needs_background": "light"
     },
     "output_type": "display_data"
    }
   ],
   "source": [
    "plt.plot(x, y, 'x')\n",
    "plt.plot(x, w*x +b, 'r--', label='$wx +b$')\n",
    "plt.legend()\n",
    "plt.show()"
   ]
  },
  {
   "cell_type": "markdown",
   "metadata": {},
   "source": [
    "2. n <= m 이고 모든 행이 독립적일 때\n",
    "$$\n",
    "\\mathbf{A}^+ =  \\mathbf{A}^T (\\mathbf{A} \\mathbf{A}^T)^{-1}\\\\\n",
    "\\mathbf{A} \\mathbf{A}^+ = I\n",
    "$$"
   ]
  },
  {
   "cell_type": "code",
   "execution_count": 17,
   "metadata": {},
   "outputs": [
    {
     "data": {
      "text/plain": [
       "array([[ 0.66666667, -0.33333333],\n",
       "       [ 0.33333333,  0.33333333],\n",
       "       [-0.33333333,  0.66666667]])"
      ]
     },
     "execution_count": 17,
     "metadata": {},
     "output_type": "execute_result"
    }
   ],
   "source": [
    "A = np.array([[1, 1, 0],\n",
    "              [0, 1, 1]])\n",
    "\n",
    "A_pinv = linalg.pinv(A)\n",
    "A_pinv"
   ]
  },
  {
   "cell_type": "code",
   "execution_count": 18,
   "metadata": {
    "scrolled": true
   },
   "outputs": [
    {
     "data": {
      "text/plain": [
       "array([[ 1.00000000e+00,  2.77555756e-16],\n",
       "       [-2.22044605e-16,  1.00000000e+00]])"
      ]
     },
     "execution_count": 18,
     "metadata": {},
     "output_type": "execute_result"
    }
   ],
   "source": [
    "A @ A_pinv"
   ]
  },
  {
   "cell_type": "markdown",
   "metadata": {},
   "source": [
    "이러한 성질은 변수의 개수가 식의 개수보다 많은 경우에서의 특수 해를 구할 시 사용할 수 있다.  \n",
    "\n",
    "$$\n",
    "x_1 + x_2 = 3\\\\\n",
    "x_2 + x_3 = 3\\\\\n",
    "$$\n",
    "\n",
    "다음과 같은 연립방정식이 주어져 있을 때 이를 행렬식으로 표현하면 다음과 같다.\n",
    "\n",
    "$$\n",
    "\\mathbf{A} = \n",
    "\\begin{bmatrix}\n",
    "1 & 1 & 0 \\\\\n",
    "0 & 1 & 1\n",
    "\\end{bmatrix} \\quad\n",
    "\\mathbf{x} =\n",
    "\\begin{bmatrix}\n",
    "x_1\\\\\n",
    "x_2\\\\\n",
    "x_3\n",
    "\\end{bmatrix} \\quad\n",
    "\\mathbf{y} =\n",
    "\\begin{bmatrix}\n",
    "3\\\\\n",
    "3\\\\\n",
    "\\end{bmatrix}\n",
    "$$\n",
    "\n",
    "$$\n",
    "\\mathbf{A} \\mathbf{x} = \\mathbf{y}\n",
    "$$\n",
    "\n",
    "이때, $\\mathbf{x}$ 에 $\\hat{\\mathbf{x}} = \\mathbf{A}^+ \\mathbf{y}$ 를 대입하면 위의 행렬식을 만족함을 확인할 수 있다.\n",
    "\n",
    "$$\n",
    "\\mathbf{A} \\, ( \\mathbf{A}^+ \\mathbf{y} ) = (\\mathbf{A} \\mathbf{A}^+) \\, \\mathbf{y} = \\mathbf{I}\\mathbf{y} = \\mathbf{y}\n",
    "$$\n",
    "\n",
    "따라서 $\\hat{\\mathbf{x}} = \\mathbf{A}^+ \\mathbf{y}$ 은 연립방정식 $\\mathbf{A} \\mathbf{x} = \\mathbf{y}$ 의 특수해이다."
   ]
  },
  {
   "cell_type": "code",
   "execution_count": 19,
   "metadata": {},
   "outputs": [
    {
     "name": "stdout",
     "output_type": "stream",
     "text": [
      "특수해 : [1. 2. 1.]\n"
     ]
    }
   ],
   "source": [
    "x_hat = A_pinv @ np.array([3, 3])\n",
    "print('특수해 :', x_hat)"
   ]
  },
  {
   "cell_type": "code",
   "execution_count": 20,
   "metadata": {},
   "outputs": [
    {
     "data": {
      "text/plain": [
       "array([3., 3.])"
      ]
     },
     "execution_count": 20,
     "metadata": {},
     "output_type": "execute_result"
    }
   ],
   "source": [
    "A @ x_hat"
   ]
  }
 ],
 "metadata": {
  "kernelspec": {
   "display_name": "pytorch",
   "language": "python",
   "name": "pytorch"
  },
  "language_info": {
   "codemirror_mode": {
    "name": "ipython",
    "version": 3
   },
   "file_extension": ".py",
   "mimetype": "text/x-python",
   "name": "python",
   "nbconvert_exporter": "python",
   "pygments_lexer": "ipython3",
   "version": "3.8.10"
  }
 },
 "nbformat": 4,
 "nbformat_minor": 4
}
