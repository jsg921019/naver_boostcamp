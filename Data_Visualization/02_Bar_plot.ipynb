{
 "cells": [
  {
   "cell_type": "markdown",
   "metadata": {},
   "source": [
    "현실적인 예시를 위해 다음과 같은 데이터셋을 사용한다."
   ]
  },
  {
   "cell_type": "code",
   "execution_count": 6,
   "metadata": {},
   "outputs": [
    {
     "data": {
      "text/html": [
       "<div>\n",
       "<style scoped>\n",
       "    .dataframe tbody tr th:only-of-type {\n",
       "        vertical-align: middle;\n",
       "    }\n",
       "\n",
       "    .dataframe tbody tr th {\n",
       "        vertical-align: top;\n",
       "    }\n",
       "\n",
       "    .dataframe thead th {\n",
       "        text-align: right;\n",
       "    }\n",
       "</style>\n",
       "<table border=\"1\" class=\"dataframe\">\n",
       "  <thead>\n",
       "    <tr style=\"text-align: right;\">\n",
       "      <th></th>\n",
       "      <th>gender</th>\n",
       "      <th>race/ethnicity</th>\n",
       "      <th>parental level of education</th>\n",
       "      <th>lunch</th>\n",
       "      <th>test preparation course</th>\n",
       "      <th>math score</th>\n",
       "      <th>reading score</th>\n",
       "      <th>writing score</th>\n",
       "    </tr>\n",
       "  </thead>\n",
       "  <tbody>\n",
       "    <tr>\n",
       "      <th>270</th>\n",
       "      <td>male</td>\n",
       "      <td>group C</td>\n",
       "      <td>bachelor's degree</td>\n",
       "      <td>standard</td>\n",
       "      <td>none</td>\n",
       "      <td>69</td>\n",
       "      <td>63</td>\n",
       "      <td>61</td>\n",
       "    </tr>\n",
       "    <tr>\n",
       "      <th>719</th>\n",
       "      <td>male</td>\n",
       "      <td>group E</td>\n",
       "      <td>associate's degree</td>\n",
       "      <td>free/reduced</td>\n",
       "      <td>completed</td>\n",
       "      <td>91</td>\n",
       "      <td>73</td>\n",
       "      <td>80</td>\n",
       "    </tr>\n",
       "    <tr>\n",
       "      <th>276</th>\n",
       "      <td>female</td>\n",
       "      <td>group C</td>\n",
       "      <td>some high school</td>\n",
       "      <td>standard</td>\n",
       "      <td>completed</td>\n",
       "      <td>85</td>\n",
       "      <td>92</td>\n",
       "      <td>93</td>\n",
       "    </tr>\n",
       "    <tr>\n",
       "      <th>13</th>\n",
       "      <td>male</td>\n",
       "      <td>group A</td>\n",
       "      <td>some college</td>\n",
       "      <td>standard</td>\n",
       "      <td>completed</td>\n",
       "      <td>78</td>\n",
       "      <td>72</td>\n",
       "      <td>70</td>\n",
       "    </tr>\n",
       "    <tr>\n",
       "      <th>595</th>\n",
       "      <td>female</td>\n",
       "      <td>group C</td>\n",
       "      <td>bachelor's degree</td>\n",
       "      <td>standard</td>\n",
       "      <td>completed</td>\n",
       "      <td>56</td>\n",
       "      <td>79</td>\n",
       "      <td>72</td>\n",
       "    </tr>\n",
       "  </tbody>\n",
       "</table>\n",
       "</div>"
      ],
      "text/plain": [
       "     gender race/ethnicity parental level of education         lunch  \\\n",
       "270    male        group C           bachelor's degree      standard   \n",
       "719    male        group E          associate's degree  free/reduced   \n",
       "276  female        group C            some high school      standard   \n",
       "13     male        group A                some college      standard   \n",
       "595  female        group C           bachelor's degree      standard   \n",
       "\n",
       "    test preparation course  math score  reading score  writing score  \n",
       "270                    none          69             63             61  \n",
       "719               completed          91             73             80  \n",
       "276               completed          85             92             93  \n",
       "13                completed          78             72             70  \n",
       "595               completed          56             79             72  "
      ]
     },
     "execution_count": 6,
     "metadata": {},
     "output_type": "execute_result"
    }
   ],
   "source": [
    "student = pd.read_csv('./data/StudentsPerformance.csv')\n",
    "student.sample(5)"
   ]
  },
  {
   "cell_type": "markdown",
   "metadata": {},
   "source": [
    "## Ⅰ. Basic Bar Plot"
   ]
  },
  {
   "cell_type": "markdown",
   "metadata": {},
   "source": [
    "- `bar()` : 기본적인 bar plot\n",
    "- `barh()` : horizontal bar plot"
   ]
  },
  {
   "cell_type": "code",
   "execution_count": 39,
   "metadata": {
    "scrolled": false
   },
   "outputs": [
    {
     "data": {
      "image/png": "[encoded data removed]",
      "text/plain": [
       "<Figure size 1008x504 with 2 Axes>"
      ]
     },
     "metadata": {
      "needs_background": "light"
     },
     "output_type": "display_data"
    }
   ],
   "source": [
    "import numpy as np\n",
    "import pandas as pd\n",
    "import matplotlib.pyplot as plt\n",
    "\n",
    "group_cnt = student['race/ethnicity'].value_counts().sort_index()\n",
    "\n",
    "fig, axes = plt.subplots(1, 2, figsize=(14, 7))\n",
    "\n",
    "x, y = group_cnt.index, group_cnt\n",
    "\n",
    "axes[0].bar(x, y)\n",
    "axes[1].barh(x, y)\n",
    "\n",
    "plt.show()"
   ]
  },
  {
   "cell_type": "markdown",
   "metadata": {},
   "source": [
    "다음과 같은 파라미터를 조절하며 그래프를 변경할 수 있다.\n",
    "  1. `width` : bar의 너비\n",
    "  2. `color` : bar의 색\n",
    "  3. `edgecolor`, `linewidth` : bar의 테두리선 색, 굵기\n",
    "  4. `ax.margins` : 그래프의 여백\n",
    "  5. `ax.splines` : 그래프의 border on/off\n",
    "  6. `ax.grid` 와 `zorder` : grid 표시\n",
    "  7. `ax.text` : 값 표기"
   ]
  },
  {
   "cell_type": "code",
   "execution_count": 88,
   "metadata": {},
   "outputs": [
    {
     "data": {
      "image/png": "[encoded data removed]",
      "text/plain": [
       "<Figure size 1080x504 with 2 Axes>"
      ]
     },
     "metadata": {
      "needs_background": "light"
     },
     "output_type": "display_data"
    }
   ],
   "source": [
    "fig, (ax1, ax2) = plt.subplots(1, 2, figsize=(15, 7))\n",
    "\n",
    "ax1.bar(group_cnt.index, group_cnt)\n",
    "ax2.bar(group_cnt.index, group_cnt,\n",
    "        width=0.7,\n",
    "        edgecolor='black',\n",
    "        linewidth=2,\n",
    "        color='royalblue',\n",
    "        zorder=2)\n",
    "\n",
    "ax2.margins(0.1, 0.1)\n",
    "ax2.grid()\n",
    "\n",
    "for s in ['top', 'right']:\n",
    "    ax2.spines[s].set_visible(False)\n",
    "\n",
    "for idx, value in zip(group_cnt.index, group_cnt):\n",
    "    ax2.text(idx, value+5, s=value,\n",
    "                 ha='center', \n",
    "                 fontweight='bold')\n",
    "        \n",
    "plt.show()"
   ]
  },
  {
   "cell_type": "markdown",
   "metadata": {},
   "source": [
    "## Ⅱ. Multiple Bar Plot"
   ]
  },
  {
   "cell_type": "markdown",
   "metadata": {},
   "source": [
    "두개의 bar plot을 표시한다. 비교를 위해 두 그래프의 축을 맞춰줘야 한다. 주로 다음과 같은 방법을 쓴다.\n",
    "1. subplot을 만들 때, `sharey` 파라미터를 사용하는 방법\n",
    "2. 반복문을 사용하여 y축 범위를 개별적으로 조정하는 방법"
   ]
  },
  {
   "cell_type": "code",
   "execution_count": 42,
   "metadata": {
    "scrolled": true
   },
   "outputs": [
    {
     "data": {
      "text/plain": [
       "gender  race/ethnicity\n",
       "female  group A            36\n",
       "        group B           104\n",
       "        group C           180\n",
       "        group D           129\n",
       "        group E            69\n",
       "male    group A            53\n",
       "        group B            86\n",
       "        group C           139\n",
       "        group D           133\n",
       "        group E            71\n",
       "Name: race/ethnicity, dtype: int64"
      ]
     },
     "metadata": {},
     "output_type": "display_data"
    }
   ],
   "source": [
    "group = student.groupby('gender')['race/ethnicity'].value_counts().sort_index()\n",
    "display(group)"
   ]
  },
  {
   "cell_type": "code",
   "execution_count": 43,
   "metadata": {},
   "outputs": [
    {
     "data": {
      "image/png": "[encoded data removed]",
      "text/plain": [
       "<Figure size 1080x504 with 2 Axes>"
      ]
     },
     "metadata": {
      "needs_background": "light"
     },
     "output_type": "display_data"
    }
   ],
   "source": [
    "fig, axes = plt.subplots(1, 2, figsize=(15, 7), sharey=True)\n",
    "axes[0].bar(group['male'].index, group['male'], color='royalblue')\n",
    "axes[1].bar(group['female'].index, group['female'], color='lightcoral')\n",
    "plt.show()"
   ]
  },
  {
   "cell_type": "code",
   "execution_count": 44,
   "metadata": {},
   "outputs": [
    {
     "data": {
      "image/png": "[encoded data removed]",
      "text/plain": [
       "<Figure size 1080x504 with 2 Axes>"
      ]
     },
     "metadata": {
      "needs_background": "light"
     },
     "output_type": "display_data"
    }
   ],
   "source": [
    "fig, axes = plt.subplots(1, 2, figsize=(15, 7))\n",
    "axes[0].bar(group['male'].index, group['male'], color='royalblue')\n",
    "axes[1].bar(group['female'].index, group['female'], color='lightcoral')\n",
    "\n",
    "for ax in axes:\n",
    "    ax.set_ylim(0, 200)\n",
    "    \n",
    "plt.show()"
   ]
  },
  {
   "cell_type": "markdown",
   "metadata": {},
   "source": [
    "## Ⅲ. Stacked Bar Plot"
   ]
  },
  {
   "cell_type": "markdown",
   "metadata": {},
   "source": [
    "다수의 bar plot 쌓인 형태이며 `bottom` 혹은 `left` parameter를 이용해 생성할 수 있다."
   ]
  },
  {
   "cell_type": "code",
   "execution_count": 92,
   "metadata": {},
   "outputs": [
    {
     "data": {
      "image/png": "[encoded data removed]",
      "text/plain": [
       "<Figure size 1080x504 with 2 Axes>"
      ]
     },
     "metadata": {
      "needs_background": "light"
     },
     "output_type": "display_data"
    }
   ],
   "source": [
    "fig, axes = plt.subplots(1, 2, figsize=(15, 7))\n",
    "\n",
    "group_cnt = student['race/ethnicity'].value_counts().sort_index()\n",
    "axes[0].bar(group_cnt.index, group_cnt, color='slategrey')\n",
    "axes[1].bar(group['male'].index, group['male'], color='royalblue')\n",
    "axes[1].bar(group['female'].index, group['female'], bottom=group['male'], color='lightcoral')\n",
    "\n",
    "for ax in axes:\n",
    "    ax.set_ylim(0, 350)\n",
    "    \n",
    "plt.show()"
   ]
  },
  {
   "cell_type": "markdown",
   "metadata": {},
   "source": [
    "## Ⅳ.  Percentage Stacked Bar Plot"
   ]
  },
  {
   "cell_type": "markdown",
   "metadata": {},
   "source": [
    "Stacked bar plot을 응용하여 만들 수 있다."
   ]
  },
  {
   "cell_type": "code",
   "execution_count": 25,
   "metadata": {},
   "outputs": [
    {
     "data": {
      "image/png": "[encoded data removed]",
      "text/plain": [
       "<Figure size 864x504 with 1 Axes>"
      ]
     },
     "metadata": {
      "needs_background": "light"
     },
     "output_type": "display_data"
    }
   ],
   "source": [
    "fig, ax = plt.subplots(figsize=(12, 7))\n",
    "\n",
    "group = group.sort_index(ascending=False)\n",
    "total = group['male'] + group['female']\n",
    "\n",
    "ax.barh(group['male'].index, group['male']/total, color='royalblue')\n",
    "\n",
    "ax.barh(group['female'].index, group['female']/total, \n",
    "        left=group['male']/total, color='lightcoral')\n",
    "\n",
    "ax.set_xlim(0, 1)\n",
    "\n",
    "for s in ['top', 'bottom', 'left', 'right']:\n",
    "    ax.spines[s].set_visible(False)\n",
    "\n",
    "plt.show()"
   ]
  },
  {
   "cell_type": "markdown",
   "metadata": {},
   "source": [
    "## Ⅴ. Overlapped Bar Plot"
   ]
  },
  {
   "cell_type": "markdown",
   "metadata": {},
   "source": [
    "투명도 `alpha`를 이용해 bar plot을 겹쳐 표현하는 방식이다."
   ]
  },
  {
   "cell_type": "code",
   "execution_count": 54,
   "metadata": {},
   "outputs": [
    {
     "data": {
      "image/png": "[encoded data removed]",
      "text/plain": [
       "<Figure size 864x864 with 4 Axes>"
      ]
     },
     "metadata": {
      "needs_background": "light"
     },
     "output_type": "display_data"
    }
   ],
   "source": [
    "group = group.sort_index()\n",
    "\n",
    "fig, axes = plt.subplots(2, 2, figsize=(12, 12))\n",
    "axes = axes.flatten()\n",
    "\n",
    "for idx, alpha in enumerate([1, 0.8, 0.6, 0.4]):\n",
    "    axes[idx].bar(group['male'].index, group['male'], \n",
    "                  color='royalblue', alpha=alpha)\n",
    "    axes[idx].bar(group['female'].index, group['female'],\n",
    "                  color='lightcoral', alpha=alpha)\n",
    "    axes[idx].set_title(f'Alpha = {alpha}')\n",
    "    \n",
    "for ax in axes:\n",
    "    ax.set_ylim(0, 200)\n",
    "\n",
    "plt.show()"
   ]
  },
  {
   "cell_type": "markdown",
   "metadata": {},
   "source": [
    "## Ⅵ. Grouped Bar Plot"
   ]
  },
  {
   "cell_type": "markdown",
   "metadata": {},
   "source": [
    "x축, `width`, `xticks`, `xticklabels` 을 조정해 구현할 수 있다.  \n",
    "비교적 까다롭기 때문에 Seaborn 라이브러리를 사용하는 것이 일반적이다."
   ]
  },
  {
   "cell_type": "code",
   "execution_count": 55,
   "metadata": {},
   "outputs": [
    {
     "data": {
      "image/png": "[encoded data removed]",
      "text/plain": [
       "<Figure size 864x504 with 1 Axes>"
      ]
     },
     "metadata": {
      "needs_background": "light"
     },
     "output_type": "display_data"
    }
   ],
   "source": [
    "fig, ax = plt.subplots(1, 1, figsize=(12, 7))\n",
    "\n",
    "idx = np.arange(len(group['male'].index))\n",
    "width=0.35\n",
    "\n",
    "ax.bar(idx-width/2, group['male'], \n",
    "       color='royalblue', width=width, label='Male')\n",
    "\n",
    "ax.bar(idx+width/2, group['female'], \n",
    "       color='lightcoral', width=width, label='Female')\n",
    "\n",
    "ax.set_xticks(idx)\n",
    "ax.set_xticklabels(group['male'].index)\n",
    "ax.legend()    \n",
    "plt.show()"
   ]
  },
  {
   "cell_type": "markdown",
   "metadata": {},
   "source": [
    "## Ⅶ. Errorbar Plot"
   ]
  },
  {
   "cell_type": "markdown",
   "metadata": {},
   "source": [
    "`yerr` 과 `capsize`를 이용하여 오차막대를 표시할 수 있다."
   ]
  },
  {
   "cell_type": "code",
   "execution_count": 97,
   "metadata": {},
   "outputs": [
    {
     "data": {
      "image/png": "[encoded data removed]",
      "text/plain": [
       "<Figure size 720x720 with 1 Axes>"
      ]
     },
     "metadata": {
      "needs_background": "light"
     },
     "output_type": "display_data"
    }
   ],
   "source": [
    "score = student.groupby('gender').mean().T\n",
    "score_var = student.groupby('gender').std().T\n",
    "\n",
    "fig, ax = plt.subplots(figsize=(10, 10))\n",
    "\n",
    "idx = np.arange(len(score.index))\n",
    "width=0.3\n",
    "\n",
    "ax.bar(idx-width/2, score['male'], label='Male',\n",
    "       color='royalblue', width=width,\n",
    "       yerr=score_var['male'], capsize=10)\n",
    "\n",
    "ax.bar(idx+width/2, score['female'], label='Female',\n",
    "       color='tomato', width=width,\n",
    "       yerr=score_var['female'], capsize=10)\n",
    "\n",
    "ax.set_ylim(0, 100)\n",
    "\n",
    "ax.set_xticks(idx)\n",
    "ax.set_xticklabels(score.index)\n",
    "\n",
    "ax.spines['top'].set_visible(False)\n",
    "ax.spines['right'].set_visible(False)\n",
    "\n",
    "ax.legend()\n",
    "ax.set_title('Gender / Score', fontsize=20)\n",
    "ax.set_xlabel('Subject', fontweight='bold')\n",
    "ax.set_ylabel('Score', fontweight='bold')\n",
    "\n",
    "plt.show()"
   ]
  }
 ],
 "metadata": {
  "kernelspec": {
   "display_name": "Python 3",
   "language": "python",
   "name": "python3"
  },
  "language_info": {
   "codemirror_mode": {
    "name": "ipython",
    "version": 3
   },
   "file_extension": ".py",
   "mimetype": "text/x-python",
   "name": "python",
   "nbconvert_exporter": "python",
   "pygments_lexer": "ipython3",
   "version": "3.8.5"
  }
 },
 "nbformat": 4,
 "nbformat_minor": 4
}
